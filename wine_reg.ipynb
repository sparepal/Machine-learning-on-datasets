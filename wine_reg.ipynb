{
 "cells": [
  {
   "cell_type": "code",
   "execution_count": 1,
   "metadata": {
    "collapsed": true
   },
   "outputs": [],
   "source": [
    "import pandas as pd\n",
    "import io\n",
    "import requests\n",
    "wine=\"white\"#red/white\n",
    "s=requests.get(\"https://archive.ics.uci.edu/ml/machine-learning-databases/wine-quality/winequality-\"+wine+\".csv\"\n",
    "               ).content\n",
    "data=pd.read_csv(io.StringIO(s.decode('utf-8')),error_bad_lines=False,sep=';')\n",
    "X, y=data.iloc[:,:-1].values,data.iloc[:,-1].values"
   ]
  },
  {
   "cell_type": "code",
   "execution_count": 2,
   "metadata": {
    "collapsed": true
   },
   "outputs": [],
   "source": [
    "from sklearn.preprocessing import StandardScaler\n",
    "scaler = StandardScaler()\n",
    "X=scaler.fit_transform(X)"
   ]
  },
  {
   "cell_type": "code",
   "execution_count": 14,
   "metadata": {},
   "outputs": [
    {
     "name": "stdout",
     "output_type": "stream",
     "text": [
      "[ 0.29293217  0.14320363  0.11106103  0.09259294  0.08848496  0.08534014\n",
      "  0.06605437  0.05448713  0.03764942]\n",
      "Total variance covered:  0.971805797788\n"
     ]
    }
   ],
   "source": [
    "from sklearn.decomposition import PCA\n",
    "pca = PCA(n_components=9)#Covering ~ 95% variance\n",
    "X=pca.fit_transform(X)\n",
    "print(pca.explained_variance_ratio_)\n",
    "print('Total variance covered: ',sum(pca.explained_variance_ratio_))"
   ]
  },
  {
   "cell_type": "code",
   "execution_count": 15,
   "metadata": {
    "collapsed": true
   },
   "outputs": [],
   "source": [
    "from sklearn.model_selection import train_test_split\n",
    "X_train, X_test, y_train, y_test = train_test_split(X, y, test_size=0.25, random_state=42,shuffle=False)"
   ]
  },
  {
   "cell_type": "code",
   "execution_count": 16,
   "metadata": {},
   "outputs": [
    {
     "name": "stdout",
     "output_type": "stream",
     "text": [
      "MSE: 0.4646\n",
      "Train + test time:  3.9342827796936035 sec\n"
     ]
    }
   ],
   "source": [
    "from sklearn import ensemble\n",
    "import time\n",
    "# Fit regression model\n",
    "params = {'n_estimators': 500, 'max_depth': 4, 'min_samples_split': 2,\n",
    "          'learning_rate': 0.01, 'loss': 'ls'}\n",
    "clf = ensemble.GradientBoostingRegressor(**params)\n",
    "start=time.time()\n",
    "clf.fit(X_train,y_train)\n",
    "y_pred=clf.predict(X_test)\n",
    "end=time.time()\n",
    "from sklearn.metrics import mean_squared_error\n",
    "mse = mean_squared_error(y_test,y_pred)\n",
    "print(\"MSE: %.4f\" % mse)\n",
    "print('Train + test time: ',end-start,'sec')"
   ]
  },
  {
   "cell_type": "code",
   "execution_count": 17,
   "metadata": {
    "scrolled": true
   },
   "outputs": [
    {
     "name": "stdout",
     "output_type": "stream",
     "text": [
      "WARNING:tensorflow:float64 is not supported by many models, consider casting to float32.\n",
      "INFO:tensorflow:Using default config.\n",
      "WARNING:tensorflow:Using temporary folder as model directory: C:\\Users\\vikhy\\AppData\\Local\\Temp\\tmpn9zqwxfs\n",
      "INFO:tensorflow:Using config: {'_task_type': None, '_task_id': 0, '_cluster_spec': <tensorflow.python.training.server_lib.ClusterSpec object at 0x0000028EAC5A3978>, '_master': '', '_num_ps_replicas': 0, '_num_worker_replicas': 0, '_environment': 'local', '_is_chief': True, '_evaluation_master': '', '_tf_config': gpu_options {\n",
      "  per_process_gpu_memory_fraction: 1\n",
      "}\n",
      ", '_tf_random_seed': None, '_save_summary_steps': 100, '_save_checkpoints_secs': 600, '_session_config': None, '_save_checkpoints_steps': None, '_keep_checkpoint_max': 5, '_keep_checkpoint_every_n_hours': 10000, '_model_dir': 'C:\\\\Users\\\\vikhy\\\\AppData\\\\Local\\\\Temp\\\\tmpn9zqwxfs'}\n"
     ]
    }
   ],
   "source": [
    "import tensorflow as tf\n",
    "feature_cols = tf.contrib.learn.infer_real_valued_columns_from_input(X_train)\n",
    "\n",
    "regressor = tf.contrib.learn.DNNRegressor(feature_columns=feature_cols, \n",
    "                                          activation_fn = tf.nn.relu, hidden_units=[80, 40,20])\n",
    "regressor = tf.contrib.learn.SKCompat(regressor) "
   ]
  },
  {
   "cell_type": "code",
   "execution_count": 18,
   "metadata": {},
   "outputs": [
    {
     "name": "stdout",
     "output_type": "stream",
     "text": [
      "WARNING:tensorflow:float64 is not supported by many models, consider casting to float32.\n",
      "WARNING:tensorflow:From C:\\Users\\vikhy\\Anaconda3\\Anaconda-3.5\\lib\\site-packages\\tensorflow\\contrib\\learn\\python\\learn\\estimators\\head.py:625: scalar_summary (from tensorflow.python.ops.logging_ops) is deprecated and will be removed after 2016-11-30.\n",
      "Instructions for updating:\n",
      "Please switch to tf.summary.scalar. Note that tf.summary.scalar uses the node name instead of the tag. This means that TensorFlow will automatically de-duplicate summary names based on the scope they are created in. Also, passing a tensor or list of tags to a scalar summary op is no longer supported.\n",
      "INFO:tensorflow:Create CheckpointSaverHook.\n",
      "INFO:tensorflow:Saving checkpoints for 1 into C:\\Users\\vikhy\\AppData\\Local\\Temp\\tmpn9zqwxfs\\model.ckpt.\n",
      "INFO:tensorflow:loss = 34.572, step = 1\n",
      "INFO:tensorflow:global_step/sec: 610.236\n",
      "INFO:tensorflow:loss = 1.51908, step = 101 (0.164 sec)\n",
      "INFO:tensorflow:global_step/sec: 575.735\n",
      "INFO:tensorflow:loss = 0.152114, step = 201 (0.174 sec)\n",
      "INFO:tensorflow:global_step/sec: 473.631\n",
      "INFO:tensorflow:loss = 0.693285, step = 301 (0.228 sec)\n",
      "INFO:tensorflow:global_step/sec: 542.969\n",
      "INFO:tensorflow:loss = 0.171251, step = 401 (0.184 sec)\n",
      "INFO:tensorflow:global_step/sec: 519.727\n",
      "INFO:tensorflow:loss = 0.39261, step = 501 (0.176 sec)\n",
      "INFO:tensorflow:global_step/sec: 575.676\n",
      "INFO:tensorflow:loss = 1.2284, step = 601 (0.189 sec)\n",
      "INFO:tensorflow:global_step/sec: 545.086\n",
      "INFO:tensorflow:loss = 0.502556, step = 701 (0.172 sec)\n",
      "INFO:tensorflow:global_step/sec: 435.515\n",
      "INFO:tensorflow:loss = 0.252919, step = 801 (0.239 sec)\n",
      "INFO:tensorflow:global_step/sec: 330.922\n",
      "INFO:tensorflow:loss = 0.187069, step = 901 (0.294 sec)\n",
      "INFO:tensorflow:global_step/sec: 416.425\n",
      "INFO:tensorflow:loss = 0.417222, step = 1001 (0.240 sec)\n",
      "INFO:tensorflow:global_step/sec: 392.653\n",
      "INFO:tensorflow:loss = 0.798025, step = 1101 (0.255 sec)\n",
      "INFO:tensorflow:global_step/sec: 349.839\n",
      "INFO:tensorflow:loss = 0.772891, step = 1201 (0.285 sec)\n",
      "INFO:tensorflow:global_step/sec: 328.182\n",
      "INFO:tensorflow:loss = 0.458582, step = 1301 (0.305 sec)\n",
      "INFO:tensorflow:global_step/sec: 352.27\n",
      "INFO:tensorflow:loss = 0.284084, step = 1401 (0.291 sec)\n",
      "INFO:tensorflow:global_step/sec: 285.018\n",
      "INFO:tensorflow:loss = 0.593953, step = 1501 (0.343 sec)\n",
      "INFO:tensorflow:global_step/sec: 765.077\n",
      "INFO:tensorflow:loss = 0.606625, step = 1601 (0.145 sec)\n",
      "INFO:tensorflow:global_step/sec: 390.236\n",
      "INFO:tensorflow:loss = 0.612499, step = 1701 (0.243 sec)\n",
      "INFO:tensorflow:global_step/sec: 379.584\n",
      "INFO:tensorflow:loss = 0.844095, step = 1801 (0.263 sec)\n",
      "INFO:tensorflow:global_step/sec: 377.74\n",
      "INFO:tensorflow:loss = 0.542128, step = 1901 (0.268 sec)\n",
      "INFO:tensorflow:Saving checkpoints for 2000 into C:\\Users\\vikhy\\AppData\\Local\\Temp\\tmpn9zqwxfs\\model.ckpt.\n",
      "INFO:tensorflow:Loss for final step: 0.26479.\n",
      "WARNING:tensorflow:float64 is not supported by many models, consider casting to float32.\n",
      "INFO:tensorflow:Restoring parameters from C:\\Users\\vikhy\\AppData\\Local\\Temp\\tmpn9zqwxfs\\model.ckpt-2000\n"
     ]
    }
   ],
   "source": [
    "start=time.time()\n",
    "regressor.fit(X_train, y_train, batch_size=10, steps=2000)\n",
    "y_pred = regressor.predict(X_test)\n",
    "end=time.time()"
   ]
  },
  {
   "cell_type": "code",
   "execution_count": 19,
   "metadata": {},
   "outputs": [
    {
     "name": "stdout",
     "output_type": "stream",
     "text": [
      "0.420948384996\n",
      "Train + test time:  10.755764722824097 sec\n"
     ]
    }
   ],
   "source": [
    "print(mean_squared_error(y_test, y_pred['scores']))\n",
    "print('Train + test time: ',end-start,'sec')"
   ]
  },
  {
   "cell_type": "code",
   "execution_count": null,
   "metadata": {
    "collapsed": true
   },
   "outputs": [],
   "source": []
  }
 ],
 "metadata": {
  "kernelspec": {
   "display_name": "Python 3",
   "language": "python",
   "name": "python3"
  },
  "language_info": {
   "codemirror_mode": {
    "name": "ipython",
    "version": 3
   },
   "file_extension": ".py",
   "mimetype": "text/x-python",
   "name": "python",
   "nbconvert_exporter": "python",
   "pygments_lexer": "ipython3",
   "version": "3.6.4"
  }
 },
 "nbformat": 4,
 "nbformat_minor": 2
}
