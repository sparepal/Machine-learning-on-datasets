{
 "cells": [
  {
   "cell_type": "code",
   "execution_count": 1,
   "metadata": {},
   "outputs": [
    {
     "data": {
      "text/plain": [
       "['HTRU_2.csv', 'HTRU_2.arff', 'Readme.txt']"
      ]
     },
     "execution_count": 1,
     "metadata": {},
     "output_type": "execute_result"
    }
   ],
   "source": [
    "import requests\n",
    "import io\n",
    "import zipfile\n",
    "url = 'https://archive.ics.uci.edu/ml/machine-learning-databases/00372/HTRU2.zip'\n",
    "r = requests.get(url,auth=('user','pass'))\n",
    "mlz = zipfile.ZipFile(io.BytesIO(r.content))\n",
    "mlz.namelist()"
   ]
  },
  {
   "cell_type": "code",
   "execution_count": 14,
   "metadata": {},
   "outputs": [],
   "source": [
    "import pandas as pd\n",
    "data = pd.read_csv(mlz.open('HTRU_2.csv'))\n",
    "X, y =data.iloc[:,:-1].values, data.iloc[:,-1].values\n"
   ]
  },
  {
   "cell_type": "code",
   "execution_count": 4,
   "metadata": {
    "collapsed": true
   },
   "outputs": [],
   "source": [
    "from sklearn.cluster import MiniBatchKMeans\n",
    "batch_size=3000\n",
    "mbk = MiniBatchKMeans(init='k-means++', n_clusters=2, batch_size=batch_size,\n",
    "                      n_init=10, max_no_improvement=10, verbose=0)"
   ]
  },
  {
   "cell_type": "code",
   "execution_count": 6,
   "metadata": {},
   "outputs": [],
   "source": [
    "mbk.fit(X)\n",
    "y_pred=mbk.predict(X)"
   ]
  },
  {
   "cell_type": "code",
   "execution_count": 15,
   "metadata": {},
   "outputs": [
    {
     "name": "stdout",
     "output_type": "stream",
     "text": [
      "[ 0.87105737  0.07819042  0.04115499  0.00615969  0.00243716]\n",
      "Total variance covered:  0.998999634715\n"
     ]
    }
   ],
   "source": [
    "from sklearn.decomposition import PCA\n",
    "pca = PCA(n_components=5)#Covering ~ 95% variance\n",
    "X=pca.fit_transform(X)\n",
    "print(pca.explained_variance_ratio_)\n",
    "print('Total variance covered: ',sum(pca.explained_variance_ratio_))"
   ]
  },
  {
   "cell_type": "code",
   "execution_count": 13,
   "metadata": {},
   "outputs": [
    {
     "data": {
      "image/png": "[encoded data removed]",
      "text/plain": [
       "<matplotlib.figure.Figure at 0x188f3440a20>"
      ]
     },
     "metadata": {},
     "output_type": "display_data"
    }
   ],
   "source": [
    "import matplotlib.pyplot as plt\n",
    "plt.scatter(X,y_pred,color='y')\n",
    "plt.scatter(X,y,color='b')\n",
    "plt.legend(['Cyan-predicted, Blue-Actual'])\n",
    "plt.show()"
   ]
  },
  {
   "cell_type": "code",
   "execution_count": null,
   "metadata": {
    "collapsed": true
   },
   "outputs": [],
   "source": []
  }
 ],
 "metadata": {
  "kernelspec": {
   "display_name": "Python 3",
   "language": "python",
   "name": "python3"
  },
  "language_info": {
   "codemirror_mode": {
    "name": "ipython",
    "version": 3
   },
   "file_extension": ".py",
   "mimetype": "text/x-python",
   "name": "python",
   "nbconvert_exporter": "python",
   "pygments_lexer": "ipython3",
   "version": "3.6.4"
  }
 },
 "nbformat": 4,
 "nbformat_minor": 2
}
