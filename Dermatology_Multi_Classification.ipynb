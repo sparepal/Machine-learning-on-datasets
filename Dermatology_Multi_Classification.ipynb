{
 "cells": [
  {
   "cell_type": "code",
   "execution_count": 1,
   "metadata": {
    "collapsed": true
   },
   "outputs": [],
   "source": [
    "import pandas as pd\n",
    "import io\n",
    "import requests\n",
    "import numpy as np\n",
    "import time#To time the training times\n",
    "\n",
    "s=requests.get(\"https://archive.ics.uci.edu/ml/machine-learning-databases/dermatology/dermatology.data\").content\n",
    "data=pd.read_csv(io.StringIO(s.decode('utf-8')),error_bad_lines=False,header=None)"
   ]
  },
  {
   "cell_type": "code",
   "execution_count": 2,
   "metadata": {
    "collapsed": true
   },
   "outputs": [],
   "source": [
    "#Splitting to X,y and taking care of missing data\n",
    "X,y=pd.DataFrame(data.iloc[:,:34].values),pd.DataFrame(data.iloc[:,34].values)\n",
    "y=y-1#Getting all labels to index values i.e.[0,5]\n",
    "X[33]=X[33].replace('?',np.nan)\n",
    "X[33]=pd.to_numeric(X[33], downcast='float')\n",
    "X[33]=X[33].fillna(X[33].mean())"
   ]
  },
  {
   "cell_type": "code",
   "execution_count": 3,
   "metadata": {
    "collapsed": true
   },
   "outputs": [],
   "source": [
    "from sklearn.preprocessing import StandardScaler\n",
    "scaler = StandardScaler()\n",
    "X=scaler.fit_transform(X)"
   ]
  },
  {
   "cell_type": "code",
   "execution_count": 4,
   "metadata": {
    "collapsed": true
   },
   "outputs": [],
   "source": [
    "from sklearn.model_selection import train_test_split\n",
    "X_train, X_test, y_train, y_test = train_test_split(X, y, test_size=0.25, random_state=20)"
   ]
  },
  {
   "cell_type": "code",
   "execution_count": 5,
   "metadata": {
    "collapsed": true
   },
   "outputs": [],
   "source": [
    "from sklearn.pipeline import Pipeline \n",
    "from sklearn.preprocessing import StandardScaler \n",
    "from sklearn.svm import LinearSVC\n",
    "\n",
    "svm_clf = Pipeline(( #For faster implementation of SVM\n",
    "        (\"scaler\", StandardScaler()), \n",
    "        (\"linear_svc\", LinearSVC(C=1, loss=\"hinge\")),)) "
   ]
  },
  {
   "cell_type": "code",
   "execution_count": 6,
   "metadata": {},
   "outputs": [
    {
     "name": "stderr",
     "output_type": "stream",
     "text": [
      "C:\\Users\\vikhy\\Anaconda3\\Anaconda-3.5\\lib\\site-packages\\sklearn\\utils\\validation.py:578: DataConversionWarning: A column-vector y was passed when a 1d array was expected. Please change the shape of y to (n_samples, ), for example using ravel().\n",
      "  y = column_or_1d(y, warn=True)\n"
     ]
    }
   ],
   "source": [
    "#Fit and predict\n",
    "start = time.time()\n",
    "svm_clf.fit(X_train, y_train)\n",
    "y_pred=svm_clf.predict(X_test)\n",
    "end = time.time()"
   ]
  },
  {
   "cell_type": "code",
   "execution_count": 7,
   "metadata": {
    "collapsed": true
   },
   "outputs": [],
   "source": [
    "from sklearn.metrics import confusion_matrix,accuracy_score\n",
    "from sklearn.metrics import precision_score, recall_score\n",
    "from sklearn.metrics import f1_score\n",
    "from sklearn.metrics import precision_recall_curve\n",
    "import matplotlib.pyplot as plt\n",
    "from sklearn.metrics import roc_curve \n",
    "from sklearn.metrics import roc_auc_score\n",
    "import numpy as np\n",
    "def plot_results(y_test,y_pred):\n",
    "    conf_mx=confusion_matrix(y_test,y_pred)\n",
    "    print('Confusion matrix\\n',conf_mx)\n",
    "    print('Accuracy: ',accuracy_score(y_test,y_pred)*100,'%')\n",
    "    #Precision,recalland f1 scores\n",
    "    print('Precision:',precision_score(y_test, y_pred,average='micro'))\n",
    "    print('Recall:',recall_score(y_test, y_pred,average='micro')) \n",
    "    print('F1 score:',f1_score(y_test, y_pred,average='micro'))  \n",
    "    print('Confusion matrix')\n",
    "    plt.matshow(conf_mx, cmap=plt.cm.gray)\n",
    "    plt.show()\n",
    "    print('Confusion matrix of errors')\n",
    "    row_sums = conf_mx.sum(axis=1, keepdims=True)\n",
    "    norm_conf_mx = conf_mx / row_sums\n",
    "    np.fill_diagonal(norm_conf_mx, 0) \n",
    "    plt.matshow(norm_conf_mx, cmap=plt.cm.gray) \n",
    "    plt.show()"
   ]
  },
  {
   "cell_type": "code",
   "execution_count": 8,
   "metadata": {
    "scrolled": false
   },
   "outputs": [
    {
     "name": "stdout",
     "output_type": "stream",
     "text": [
      "Confusion matrix\n",
      " [[34  0  0  0  0  0]\n",
      " [ 0 16  0  1  0  0]\n",
      " [ 0  0 16  0  0  0]\n",
      " [ 0  1  0 10  0  0]\n",
      " [ 0  0  0  0  9  0]\n",
      " [ 0  0  0  0  0  5]]\n",
      "Accuracy:  97.8260869565 %\n",
      "Precision: 0.978260869565\n",
      "Recall: 0.978260869565\n",
      "F1 score: 0.978260869565\n",
      "Confusion matrix\n"
     ]
    },
    {
     "data": {
      "image/png": "[encoded data removed]",
      "text/plain": [
       "<matplotlib.figure.Figure at 0x22cf9a278d0>"
      ]
     },
     "metadata": {},
     "output_type": "display_data"
    },
    {
     "name": "stdout",
     "output_type": "stream",
     "text": [
      "Confusion matrix of errors\n"
     ]
    },
    {
     "data": {
      "image/png": "[encoded data removed]",
      "text/plain": [
       "<matplotlib.figure.Figure at 0x22cfa695438>"
      ]
     },
     "metadata": {},
     "output_type": "display_data"
    },
    {
     "name": "stdout",
     "output_type": "stream",
     "text": [
      "Time elapsed:  0.12591052055358887 seconds\n"
     ]
    }
   ],
   "source": [
    "plot_results(y_test,y_pred)\n",
    "print('Time elapsed: ',end - start,'seconds')"
   ]
  },
  {
   "cell_type": "code",
   "execution_count": 9,
   "metadata": {},
   "outputs": [
    {
     "name": "stdout",
     "output_type": "stream",
     "text": [
      "WARNING:tensorflow:float64 is not supported by many models, consider casting to float32.\n",
      "WARNING:tensorflow:Using temporary folder as model directory: C:\\Users\\vikhy\\AppData\\Local\\Temp\\tmp92tt1fyf\n",
      "INFO:tensorflow:Using config: {'_task_type': None, '_task_id': 0, '_cluster_spec': <tensorflow.python.training.server_lib.ClusterSpec object at 0x0000022CFE25F550>, '_master': '', '_num_ps_replicas': 0, '_num_worker_replicas': 0, '_environment': 'local', '_is_chief': True, '_evaluation_master': '', '_tf_config': gpu_options {\n",
      "  per_process_gpu_memory_fraction: 1\n",
      "}\n",
      ", '_tf_random_seed': 42, '_save_summary_steps': 100, '_save_checkpoints_secs': 600, '_session_config': None, '_save_checkpoints_steps': None, '_keep_checkpoint_max': 5, '_keep_checkpoint_every_n_hours': 10000, '_model_dir': 'C:\\\\Users\\\\vikhy\\\\AppData\\\\Local\\\\Temp\\\\tmp92tt1fyf'}\n"
     ]
    }
   ],
   "source": [
    "import tensorflow as tf\n",
    "#Construction\n",
    "config = tf.contrib.learn.RunConfig(tf_random_seed=42) \n",
    "feature_cols = tf.contrib.learn.infer_real_valued_columns_from_input(X_train)\n",
    "dnn_clf = tf.contrib.learn.DNNClassifier(hidden_units=[20], n_classes=6,feature_columns=feature_cols, config=config)\n",
    "dnn_clf = tf.contrib.learn.SKCompat(dnn_clf) "
   ]
  },
  {
   "cell_type": "code",
   "execution_count": 10,
   "metadata": {},
   "outputs": [
    {
     "name": "stdout",
     "output_type": "stream",
     "text": [
      "WARNING:tensorflow:float64 is not supported by many models, consider casting to float32.\n",
      "WARNING:tensorflow:From C:\\Users\\vikhy\\Anaconda3\\Anaconda-3.5\\lib\\site-packages\\tensorflow\\contrib\\learn\\python\\learn\\estimators\\head.py:625: scalar_summary (from tensorflow.python.ops.logging_ops) is deprecated and will be removed after 2016-11-30.\n",
      "Instructions for updating:\n",
      "Please switch to tf.summary.scalar. Note that tf.summary.scalar uses the node name instead of the tag. This means that TensorFlow will automatically de-duplicate summary names based on the scope they are created in. Also, passing a tensor or list of tags to a scalar summary op is no longer supported.\n",
      "INFO:tensorflow:Create CheckpointSaverHook.\n",
      "INFO:tensorflow:Saving checkpoints for 1 into C:\\Users\\vikhy\\AppData\\Local\\Temp\\tmp92tt1fyf\\model.ckpt.\n",
      "INFO:tensorflow:loss = 3.15419, step = 1\n",
      "INFO:tensorflow:global_step/sec: 628.653\n",
      "INFO:tensorflow:loss = 0.0303086, step = 101 (0.163 sec)\n",
      "INFO:tensorflow:global_step/sec: 423.57\n",
      "INFO:tensorflow:loss = 0.65884, step = 201 (0.231 sec)\n",
      "INFO:tensorflow:Saving checkpoints for 300 into C:\\Users\\vikhy\\AppData\\Local\\Temp\\tmp92tt1fyf\\model.ckpt.\n",
      "INFO:tensorflow:Loss for final step: 0.00197942.\n",
      "WARNING:tensorflow:float64 is not supported by many models, consider casting to float32.\n",
      "INFO:tensorflow:Restoring parameters from C:\\Users\\vikhy\\AppData\\Local\\Temp\\tmp92tt1fyf\\model.ckpt-300\n"
     ]
    }
   ],
   "source": [
    "#Execution\n",
    "start = time.time()\n",
    "dnn_clf.fit(X_train, y_train, batch_size=1, steps=300)\n",
    "#Evaluating accuracy on the test set\n",
    "from sklearn.metrics import accuracy_score\n",
    "y_pred = dnn_clf.predict(X_test)\n",
    "end = time.time()"
   ]
  },
  {
   "cell_type": "code",
   "execution_count": 66,
   "metadata": {},
   "outputs": [
    {
     "name": "stdout",
     "output_type": "stream",
     "text": [
      "Confusion matrix\n",
      " [[34  0  0  0  0  0]\n",
      " [ 0 16  0  1  0  0]\n",
      " [ 0  0 16  0  0  0]\n",
      " [ 0  0  0 11  0  0]\n",
      " [ 0  0  0  0  9  0]\n",
      " [ 0  0  0  0  0  5]]\n",
      "Accuracy:  98.9130434783 %\n",
      "Precision: 0.989130434783\n",
      "Recall: 0.989130434783\n",
      "F1 score: 0.989130434783\n",
      "Confusion matrix\n"
     ]
    },
    {
     "data": {
      "image/png": "[encoded data removed]",
      "text/plain": [
       "<matplotlib.figure.Figure at 0x2a2b84e5d68>"
      ]
     },
     "metadata": {},
     "output_type": "display_data"
    },
    {
     "name": "stdout",
     "output_type": "stream",
     "text": [
      "Confusion matrix of errors\n"
     ]
    },
    {
     "data": {
      "image/png": "[encoded data removed]",
      "text/plain": [
       "<matplotlib.figure.Figure at 0x2a2b12d3048>"
      ]
     },
     "metadata": {},
     "output_type": "display_data"
    },
    {
     "name": "stdout",
     "output_type": "stream",
     "text": [
      "Time elapsed:  2.6081459522247314 seconds\n"
     ]
    }
   ],
   "source": [
    "plot_results(y_test,y_pred['classes'])\n",
    "print('Time elapsed: ',end - start,'seconds')"
   ]
  },
  {
   "cell_type": "code",
   "execution_count": 12,
   "metadata": {},
   "outputs": [
    {
     "data": {
      "text/plain": [
       "array([0, 0, 0, 5, 2, 1, 3, 2, 3, 0, 0, 0, 2, 0, 1, 0, 2, 0, 2, 2, 1, 0, 5,\n",
       "       3, 2, 1, 0, 1, 0, 0, 4, 0, 0, 3, 2, 2, 0, 5, 1, 4, 4, 0, 2, 0, 4, 3,\n",
       "       1, 0, 1, 0, 0, 2, 0, 0, 1, 3, 1, 3, 4, 1, 4, 1, 1, 0, 0, 3, 0, 0, 0,\n",
       "       1, 0, 5, 0, 2, 3, 1, 2, 4, 0, 2, 3, 5, 2, 4, 0, 0, 0, 1, 3, 4, 2, 1], dtype=int64)"
      ]
     },
     "execution_count": 12,
     "metadata": {},
     "output_type": "execute_result"
    }
   ],
   "source": [
    "y_pred['classes']"
   ]
  },
  {
   "cell_type": "code",
   "execution_count": null,
   "metadata": {
    "collapsed": true
   },
   "outputs": [],
   "source": []
  }
 ],
 "metadata": {
  "kernelspec": {
   "display_name": "Python 3",
   "language": "python",
   "name": "python3"
  },
  "language_info": {
   "codemirror_mode": {
    "name": "ipython",
    "version": 3
   },
   "file_extension": ".py",
   "mimetype": "text/x-python",
   "name": "python",
   "nbconvert_exporter": "python",
   "pygments_lexer": "ipython3",
   "version": "3.6.4"
  }
 },
 "nbformat": 4,
 "nbformat_minor": 2
}
